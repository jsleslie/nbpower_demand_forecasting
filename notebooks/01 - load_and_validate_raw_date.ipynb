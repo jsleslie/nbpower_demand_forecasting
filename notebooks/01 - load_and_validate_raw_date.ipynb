{
 "cells": [
  {
   "cell_type": "markdown",
   "id": "90a8fa56-e75a-4a59-a3b9-a4809b347bf8",
   "metadata": {},
   "source": [
    "# Fetch raw data and validate"
   ]
  },
  {
   "cell_type": "code",
   "execution_count": 2,
   "id": "f3fd9166-192c-4d05-9897-d48a607b5baf",
   "metadata": {
    "tags": []
   },
   "outputs": [],
   "source": [
    "from pathlib import Path\n",
    "import logging\n",
    "from io import StringIO\n",
    "import pandas as pd\n",
    "from selenium import webdriver\n",
    "from selenium.webdriver.chrome.service import Service as ChromiumService\n",
    "from webdriver_manager.chrome import ChromeDriverManager\n",
    "from webdriver_manager.core.os_manager import ChromeType\n",
    "from selenium.webdriver.chrome.service import Service\n",
    "from selenium.common.exceptions import WebDriverException\n",
    "from selenium.webdriver.common.by import By\n",
    "import os\n",
    "\n",
    "def download_one_file_of_raw_data(year: int, month: int) -> Path:\n",
    "    \"\"\"\n",
    "    This function takes a year and a month parameter and downloads the \n",
    "    NB Power System Information for the chosen year-month as a parquet file\n",
    "    \"\"\"\n",
    "    \n",
    "    # Chrome driver settings\n",
    "    option = webdriver.ChromeOptions()\n",
    "    option.add_argument(\"start-maximized\")\n",
    "    prefs = {'download.default_directory' : os.getcwd()+'/data/raw'}\n",
    "    option.add_experimental_option('prefs', prefs)\n",
    "\n",
    "    URL = 'https://tso.nbpower.com/Public/en/system_information_archive.aspx'\n",
    "    \n",
    "    # Validate parameter types\n",
    "    if not isinstance(year, int):\n",
    "          raise TypeError(\"Interger value required for Year parameter\" )\n",
    "    if not isinstance(month, int):\n",
    "          raise TypeError(\"Interger value required for Month parameter\" )\n",
    "    \n",
    "    # Configure logger\n",
    "    logging.basicConfig(filename=f'../log/extract_nb_power_{year}_{month:02d}.log',\n",
    "                        level=logging.ERROR)\n",
    "    logger.info('Start Extract Session')\n",
    "    try:\n",
    "        # Initialize Chrome WebDriver \n",
    "        driver = webdriver.Chrome(service=Service(ChromeDriverManager().install()),options=option)\n",
    "        \n",
    "        # Load page\n",
    "        driver.get(URL)\n",
    "    \n",
    "        # Set menus\n",
    "        month_sel = driver.find_element(\"xpath\",'/html/body/form/div[5]/div[1]/table[1]/tbody/tr[2]/td[1]/select')\n",
    "        year_sel = driver.find_element(\"xpath\",'//*[@id=\"ctl00_cphMainContent_ddlYear\"]')\n",
    "      \n",
    "        # Use input parameters to select year\n",
    "        year_dict = {val.text: index for index,val in enumerate(year_sel.find_elements(By.TAG_NAME,\"option\"))}\n",
    "        year_menu = year_sel.find_elements(By.TAG_NAME,\"option\")\n",
    "        year_menu[year_dict[str(year)]].click()\n",
    "    \n",
    "        # Use input parameters to select month\n",
    "        month_dict = {val.text: index for index,val in enumerate(month_sel.find_elements(By.TAG_NAME,\"option\"))}\n",
    "        month_menu = month_sel.find_elements(By.TAG_NAME,\"option\")\n",
    "        month_menu[month_dict[str(month)]].click()\n",
    "    \n",
    "        # View data\n",
    "        view_data_button = driver.find_element(\"xpath\",'//*[@id=\"ctl00_cphMainContent_lbGetData\"]')\n",
    "        view_data_button.click()\n",
    "    \n",
    "        # Parse data into data frame then write to parquet\n",
    "        output_text=driver.find_element(By.TAG_NAME,\"pre\").text\n",
    "        csvStringIO = StringIO(output_text)\n",
    "        df = pd.read_csv(csvStringIO, sep=\",\", header=0)\n",
    "        \n",
    "        path = f'../data/raw/nb_power_{year}_{month:02d}.parquet'\n",
    "        df.to_parquet(path)\n",
    "        logger.info('Extract completed!')\n",
    "        return path\n",
    "\n",
    "    \n",
    "    except KeyError:\n",
    "        # Close the WebDriver\n",
    "        driver.quit()\n",
    "        print(\"Invalid year and month parameters selected\")\n",
    "        \n",
    "    except WebDriverException:\n",
    "        # Close the WebDriver\n",
    "        driver.quit()\n",
    "        print(\"Base URL no longer valid - leads to NoSuchElementException\")\n",
    "        \n",
    "    except Exception as e:\n",
    "        # Close the WebDriver\n",
    "        driver.quit()\n",
    "        \n",
    "        # Log the exception along with additional information\n",
    "        logging.error('An error occurred: %s', str(e))\n",
    "        print('An error occurred: %s', str(e))\n",
    "    \n",
    "    else:\n",
    "        # Close the WebDriver\n",
    "        driver.quit()"
   ]
  },
  {
   "cell_type": "code",
   "execution_count": null,
   "id": "c37262d4-97e6-4444-a1c3-a3f1d663787a",
   "metadata": {},
   "outputs": [],
   "source": []
  },
  {
   "cell_type": "code",
   "execution_count": 3,
   "id": "ad3aea5f-36ff-446e-ad9a-b7c3f22235ae",
   "metadata": {
    "tags": []
   },
   "outputs": [
    {
     "data": {
      "text/plain": [
       "'../data/raw/nb_power_2023_01.parquet'"
      ]
     },
     "execution_count": 3,
     "metadata": {},
     "output_type": "execute_result"
    }
   ],
   "source": [
    "download_one_file_of_raw_data(year=2023, month=1)"
   ]
  },
  {
   "cell_type": "code",
   "execution_count": 4,
   "id": "62190847-93bb-48bf-a94a-63d0a547abb4",
   "metadata": {
    "tags": []
   },
   "outputs": [
    {
     "name": "stdout",
     "output_type": "stream",
     "text": [
      "Invalid year and month parameters selected\n"
     ]
    }
   ],
   "source": [
    "download_one_file_of_raw_data(year=2025, month=1)"
   ]
  },
  {
   "cell_type": "code",
   "execution_count": 5,
   "id": "d635d45b-823a-40b7-88fb-736dbf50c016",
   "metadata": {
    "tags": []
   },
   "outputs": [
    {
     "ename": "TypeError",
     "evalue": "Interger value required for Year parameter",
     "output_type": "error",
     "traceback": [
      "\u001b[0;31m---------------------------------------------------------------------------\u001b[0m",
      "\u001b[0;31mTypeError\u001b[0m                                 Traceback (most recent call last)",
      "Cell \u001b[0;32mIn[5], line 1\u001b[0m\n\u001b[0;32m----> 1\u001b[0m \u001b[43mdownload_one_file_of_raw_data\u001b[49m\u001b[43m(\u001b[49m\u001b[43myear\u001b[49m\u001b[38;5;241;43m=\u001b[39;49m\u001b[38;5;124;43m'\u001b[39;49m\u001b[38;5;124;43m2020\u001b[39;49m\u001b[38;5;124;43m'\u001b[39;49m\u001b[43m,\u001b[49m\u001b[43m \u001b[49m\u001b[43mmonth\u001b[49m\u001b[38;5;241;43m=\u001b[39;49m\u001b[38;5;241;43m1\u001b[39;49m\u001b[43m)\u001b[49m\n",
      "Cell \u001b[0;32mIn[2], line 28\u001b[0m, in \u001b[0;36mdownload_one_file_of_raw_data\u001b[0;34m(year, month)\u001b[0m\n\u001b[1;32m     26\u001b[0m \u001b[38;5;66;03m# Validate parameter types\u001b[39;00m\n\u001b[1;32m     27\u001b[0m \u001b[38;5;28;01mif\u001b[39;00m \u001b[38;5;129;01mnot\u001b[39;00m \u001b[38;5;28misinstance\u001b[39m(year, \u001b[38;5;28mint\u001b[39m):\n\u001b[0;32m---> 28\u001b[0m       \u001b[38;5;28;01mraise\u001b[39;00m \u001b[38;5;167;01mTypeError\u001b[39;00m(\u001b[38;5;124m\"\u001b[39m\u001b[38;5;124mInterger value required for Year parameter\u001b[39m\u001b[38;5;124m\"\u001b[39m )\n\u001b[1;32m     29\u001b[0m \u001b[38;5;28;01mif\u001b[39;00m \u001b[38;5;129;01mnot\u001b[39;00m \u001b[38;5;28misinstance\u001b[39m(month, \u001b[38;5;28mint\u001b[39m):\n\u001b[1;32m     30\u001b[0m       \u001b[38;5;28;01mraise\u001b[39;00m \u001b[38;5;167;01mTypeError\u001b[39;00m(\u001b[38;5;124m\"\u001b[39m\u001b[38;5;124mInterger value required for Month parameter\u001b[39m\u001b[38;5;124m\"\u001b[39m )\n",
      "\u001b[0;31mTypeError\u001b[0m: Interger value required for Year parameter"
     ]
    }
   ],
   "source": [
    "download_one_file_of_raw_data(year='2020', month=1)"
   ]
  },
  {
   "cell_type": "code",
   "execution_count": 6,
   "id": "c0cbe837-d730-4249-87ae-9e5089c78df1",
   "metadata": {
    "tags": []
   },
   "outputs": [
    {
     "ename": "TypeError",
     "evalue": "Interger value required for Month parameter",
     "output_type": "error",
     "traceback": [
      "\u001b[0;31m---------------------------------------------------------------------------\u001b[0m",
      "\u001b[0;31mTypeError\u001b[0m                                 Traceback (most recent call last)",
      "Cell \u001b[0;32mIn[6], line 1\u001b[0m\n\u001b[0;32m----> 1\u001b[0m \u001b[43mdownload_one_file_of_raw_data\u001b[49m\u001b[43m(\u001b[49m\u001b[43myear\u001b[49m\u001b[38;5;241;43m=\u001b[39;49m\u001b[38;5;241;43m2020\u001b[39;49m\u001b[43m,\u001b[49m\u001b[43m \u001b[49m\u001b[43mmonth\u001b[49m\u001b[38;5;241;43m=\u001b[39;49m\u001b[38;5;124;43m'\u001b[39;49m\u001b[38;5;124;43m1\u001b[39;49m\u001b[38;5;124;43m'\u001b[39;49m\u001b[43m)\u001b[49m\n",
      "Cell \u001b[0;32mIn[2], line 30\u001b[0m, in \u001b[0;36mdownload_one_file_of_raw_data\u001b[0;34m(year, month)\u001b[0m\n\u001b[1;32m     28\u001b[0m       \u001b[38;5;28;01mraise\u001b[39;00m \u001b[38;5;167;01mTypeError\u001b[39;00m(\u001b[38;5;124m\"\u001b[39m\u001b[38;5;124mInterger value required for Year parameter\u001b[39m\u001b[38;5;124m\"\u001b[39m )\n\u001b[1;32m     29\u001b[0m \u001b[38;5;28;01mif\u001b[39;00m \u001b[38;5;129;01mnot\u001b[39;00m \u001b[38;5;28misinstance\u001b[39m(month, \u001b[38;5;28mint\u001b[39m):\n\u001b[0;32m---> 30\u001b[0m       \u001b[38;5;28;01mraise\u001b[39;00m \u001b[38;5;167;01mTypeError\u001b[39;00m(\u001b[38;5;124m\"\u001b[39m\u001b[38;5;124mInterger value required for Month parameter\u001b[39m\u001b[38;5;124m\"\u001b[39m )\n\u001b[1;32m     32\u001b[0m \u001b[38;5;66;03m# Configure logger\u001b[39;00m\n\u001b[1;32m     33\u001b[0m logging\u001b[38;5;241m.\u001b[39mbasicConfig(filename\u001b[38;5;241m=\u001b[39m\u001b[38;5;124mf\u001b[39m\u001b[38;5;124m'\u001b[39m\u001b[38;5;124m../log/extract_nb_power_\u001b[39m\u001b[38;5;132;01m{\u001b[39;00myear\u001b[38;5;132;01m}\u001b[39;00m\u001b[38;5;124m_\u001b[39m\u001b[38;5;132;01m{\u001b[39;00mmonth\u001b[38;5;132;01m:\u001b[39;00m\u001b[38;5;124m02d\u001b[39m\u001b[38;5;132;01m}\u001b[39;00m\u001b[38;5;124m.log\u001b[39m\u001b[38;5;124m'\u001b[39m,\n\u001b[1;32m     34\u001b[0m                     level\u001b[38;5;241m=\u001b[39mlogging\u001b[38;5;241m.\u001b[39mERROR)\n",
      "\u001b[0;31mTypeError\u001b[0m: Interger value required for Month parameter"
     ]
    }
   ],
   "source": [
    "download_one_file_of_raw_data(year=2020, month='1')"
   ]
  },
  {
   "cell_type": "code",
   "execution_count": null,
   "id": "0d2080ac-0640-462c-8260-571e46e16b58",
   "metadata": {},
   "outputs": [],
   "source": []
  },
  {
   "cell_type": "code",
   "execution_count": null,
   "id": "159d3132-6692-4ac2-9969-09d11e4e1705",
   "metadata": {},
   "outputs": [],
   "source": []
  },
  {
   "cell_type": "code",
   "execution_count": null,
   "id": "6d4f5b90-a321-427c-9955-3fe7deeacc93",
   "metadata": {},
   "outputs": [],
   "source": []
  }
 ],
 "metadata": {
  "kernelspec": {
   "display_name": "nb-power-demand-predictor-Hli6vHBp-py3.10",
   "language": "python",
   "name": "nb-power-demand-predictor-hli6vhbp-py3.10"
  },
  "language_info": {
   "codemirror_mode": {
    "name": "ipython",
    "version": 3
   },
   "file_extension": ".py",
   "mimetype": "text/x-python",
   "name": "python",
   "nbconvert_exporter": "python",
   "pygments_lexer": "ipython3",
   "version": "3.10.5"
  }
 },
 "nbformat": 4,
 "nbformat_minor": 5
}
