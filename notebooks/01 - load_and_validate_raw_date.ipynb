{
 "cells": [
  {
   "cell_type": "markdown",
   "id": "90a8fa56-e75a-4a59-a3b9-a4809b347bf8",
   "metadata": {},
   "source": [
    "# Fetch raw data and validate"
   ]
  },
  {
   "cell_type": "code",
   "execution_count": 1,
   "id": "f3fd9166-192c-4d05-9897-d48a607b5baf",
   "metadata": {
    "tags": []
   },
   "outputs": [],
   "source": [
    "from pathlib import Path\n",
    "import logging\n",
    "from io import StringIO\n",
    "import pandas as pd\n",
    "from pandas.tseries.offsets import MonthEnd\n",
    "from selenium import webdriver\n",
    "from selenium.webdriver.chrome.service import Service as ChromiumService\n",
    "from webdriver_manager.chrome import ChromeDriverManager\n",
    "from webdriver_manager.core.os_manager import ChromeType\n",
    "from selenium.webdriver.chrome.service import Service\n",
    "from selenium.common.exceptions import WebDriverException\n",
    "from selenium.webdriver.common.by import By\n",
    "import os\n",
    "\n",
    "def download_one_file_of_raw_data(year: int, month: int) -> Path:\n",
    "    \"\"\"\n",
    "    This function takes a year and a month parameter and downloads the \n",
    "    NB Power System Information for the chosen year-month as a parquet file\n",
    "    \"\"\"\n",
    "    \n",
    "    # Chrome driver settings\n",
    "    option = webdriver.ChromeOptions()\n",
    "    option.add_argument(\"start-maximized\")\n",
    "    prefs = {'download.default_directory' : os.getcwd()+'/data/raw'}\n",
    "    option.add_experimental_option('prefs', prefs)\n",
    "\n",
    "    URL = 'https://tso.nbpower.com/Public/en/system_information_archive.aspx'\n",
    "    \n",
    "    # Validate parameter types\n",
    "    if not isinstance(year, int):\n",
    "          raise TypeError(\"Integer value required for Year parameter\" )\n",
    "    if not isinstance(month, int):\n",
    "          raise TypeError(\"Integer value required for Month parameter\" )\n",
    "    \n",
    "    # Configure logger\n",
    "    logger = logging.getLogger('NB_Power_Extract')\n",
    "    logger.setLevel(logging.DEBUG)\n",
    "\n",
    "    # Create a file handler\n",
    "    fh = logging.FileHandler(f'../log/extract_nb_power_{year}_{month:02d}.log')\n",
    "    fh.setLevel(logging.DEBUG)\n",
    "\n",
    "    # Create a console handler\n",
    "    ch = logging.StreamHandler()\n",
    "    ch.setLevel(logging.ERROR)\n",
    "\n",
    "    # Create a formatter\n",
    "    formatter = logging.Formatter('%(asctime)s - %(name)s - %(levelname)s - %(message)s')\n",
    "    fh.setFormatter(formatter)\n",
    "    ch.setFormatter(formatter)\n",
    "\n",
    "    # Add handlers to the logger\n",
    "    logger.addHandler(fh)\n",
    "    logger.addHandler(ch)\n",
    "    \n",
    "    logger.info('Start Extract Session')\n",
    "    try:\n",
    "        # Initialize Chrome WebDriver \n",
    "        driver = webdriver.Chrome(service=Service(ChromeDriverManager().install()),options=option)\n",
    "        \n",
    "        # Load page\n",
    "        driver.get(URL)\n",
    "    \n",
    "        # Set menus\n",
    "        month_sel = driver.find_element(\"xpath\",'/html/body/form/div[5]/div[1]/table[1]/tbody/tr[2]/td[1]/select')\n",
    "        year_sel = driver.find_element(\"xpath\",'//*[@id=\"ctl00_cphMainContent_ddlYear\"]')\n",
    "      \n",
    "        # Use input parameters to select year\n",
    "        year_dict = {val.text: index for index,val in enumerate(year_sel.find_elements(By.TAG_NAME,\"option\"))}\n",
    "        year_menu = year_sel.find_elements(By.TAG_NAME,\"option\")\n",
    "        year_menu[year_dict[str(year)]].click()\n",
    "    \n",
    "        # Use input parameters to select month\n",
    "        month_dict = {val.text: index for index,val in enumerate(month_sel.find_elements(By.TAG_NAME,\"option\"))}\n",
    "        month_menu = month_sel.find_elements(By.TAG_NAME,\"option\")\n",
    "        month_menu[month_dict[str(month)]].click()\n",
    "    \n",
    "        # View data\n",
    "        view_data_button = driver.find_element(\"xpath\",'//*[@id=\"ctl00_cphMainContent_lbGetData\"]')\n",
    "        view_data_button.click()\n",
    "    \n",
    "        # Parse data into data frame then write to parquet\n",
    "        output_text=driver.find_element(By.TAG_NAME,\"pre\").text\n",
    "        csvStringIO = StringIO(output_text)\n",
    "        df = pd.read_csv(csvStringIO, sep=\",\", header=0)\n",
    "        \n",
    "        path = f'../data/raw/nb_power_{year}_{month:02d}.parquet'\n",
    "        df.to_parquet(path)\n",
    "        logger.info('Extract completed!')\n",
    "        return path\n",
    "\n",
    "    \n",
    "    except KeyError:\n",
    "        # Close the WebDriver\n",
    "        driver.quit()\n",
    "        print(\"Invalid year and month parameters selected\")\n",
    "        logger.error('Invalid year and month parameters selected')\n",
    "        \n",
    "    except WebDriverException:\n",
    "        # Close the WebDriver\n",
    "        driver.quit()\n",
    "        print(\"Base URL no longer valid - leads to NoSuchElementException\")\n",
    "        logger.error('Base URL no longer valid ')\n",
    "        \n",
    "    except Exception as e:\n",
    "        # Close the WebDriver\n",
    "        driver.quit()\n",
    "        \n",
    "        # Log the exception along with additional information\n",
    "        logging.error('An error occurred: %s', str(e))\n",
    "        print('An error occurred: %s', str(e))\n",
    "    \n",
    "    else:\n",
    "        # Close the WebDriver\n",
    "        driver.quit()"
   ]
  },
  {
   "cell_type": "code",
   "execution_count": 2,
   "id": "ad3aea5f-36ff-446e-ad9a-b7c3f22235ae",
   "metadata": {
    "tags": []
   },
   "outputs": [
    {
     "data": {
      "text/plain": [
       "'../data/raw/nb_power_2023_01.parquet'"
      ]
     },
     "execution_count": 2,
     "metadata": {},
     "output_type": "execute_result"
    }
   ],
   "source": [
    "download_one_file_of_raw_data(year=2023, month=1)"
   ]
  },
  {
   "cell_type": "code",
   "execution_count": 3,
   "id": "62190847-93bb-48bf-a94a-63d0a547abb4",
   "metadata": {
    "tags": []
   },
   "outputs": [
    {
     "name": "stderr",
     "output_type": "stream",
     "text": [
      "2024-02-18 20:42:18,002 - NB_Power_Extract - ERROR - Invalid year and month parameters selected\n",
      "2024-02-18 20:42:18,002 - NB_Power_Extract - ERROR - Invalid year and month parameters selected\n"
     ]
    },
    {
     "name": "stdout",
     "output_type": "stream",
     "text": [
      "Invalid year and month parameters selected\n"
     ]
    }
   ],
   "source": [
    "download_one_file_of_raw_data(year=2025, month=1)"
   ]
  },
  {
   "cell_type": "code",
   "execution_count": 3,
   "id": "d635d45b-823a-40b7-88fb-736dbf50c016",
   "metadata": {
    "tags": []
   },
   "outputs": [
    {
     "ename": "TypeError",
     "evalue": "Integer value required for Year parameter",
     "output_type": "error",
     "traceback": [
      "\u001b[0;31m---------------------------------------------------------------------------\u001b[0m",
      "\u001b[0;31mTypeError\u001b[0m                                 Traceback (most recent call last)",
      "Cell \u001b[0;32mIn[3], line 1\u001b[0m\n\u001b[0;32m----> 1\u001b[0m \u001b[43mdownload_one_file_of_raw_data\u001b[49m\u001b[43m(\u001b[49m\u001b[43myear\u001b[49m\u001b[38;5;241;43m=\u001b[39;49m\u001b[38;5;124;43m'\u001b[39;49m\u001b[38;5;124;43m2020\u001b[39;49m\u001b[38;5;124;43m'\u001b[39;49m\u001b[43m,\u001b[49m\u001b[43m \u001b[49m\u001b[43mmonth\u001b[49m\u001b[38;5;241;43m=\u001b[39;49m\u001b[38;5;241;43m1\u001b[39;49m\u001b[43m)\u001b[49m\n",
      "Cell \u001b[0;32mIn[1], line 31\u001b[0m, in \u001b[0;36mdownload_one_file_of_raw_data\u001b[0;34m(year, month)\u001b[0m\n\u001b[1;32m     29\u001b[0m \u001b[38;5;66;03m# Validate parameter types\u001b[39;00m\n\u001b[1;32m     30\u001b[0m \u001b[38;5;28;01mif\u001b[39;00m \u001b[38;5;129;01mnot\u001b[39;00m \u001b[38;5;28misinstance\u001b[39m(year, \u001b[38;5;28mint\u001b[39m):\n\u001b[0;32m---> 31\u001b[0m       \u001b[38;5;28;01mraise\u001b[39;00m \u001b[38;5;167;01mTypeError\u001b[39;00m(\u001b[38;5;124m\"\u001b[39m\u001b[38;5;124mInteger value required for Year parameter\u001b[39m\u001b[38;5;124m\"\u001b[39m )\n\u001b[1;32m     32\u001b[0m \u001b[38;5;28;01mif\u001b[39;00m \u001b[38;5;129;01mnot\u001b[39;00m \u001b[38;5;28misinstance\u001b[39m(month, \u001b[38;5;28mint\u001b[39m):\n\u001b[1;32m     33\u001b[0m       \u001b[38;5;28;01mraise\u001b[39;00m \u001b[38;5;167;01mTypeError\u001b[39;00m(\u001b[38;5;124m\"\u001b[39m\u001b[38;5;124mInteger value required for Month parameter\u001b[39m\u001b[38;5;124m\"\u001b[39m )\n",
      "\u001b[0;31mTypeError\u001b[0m: Integer value required for Year parameter"
     ]
    }
   ],
   "source": [
    "download_one_file_of_raw_data(year='2020', month=1)"
   ]
  },
  {
   "cell_type": "code",
   "execution_count": 4,
   "id": "c0cbe837-d730-4249-87ae-9e5089c78df1",
   "metadata": {
    "tags": []
   },
   "outputs": [
    {
     "ename": "TypeError",
     "evalue": "Integer value required for Month parameter",
     "output_type": "error",
     "traceback": [
      "\u001b[0;31m---------------------------------------------------------------------------\u001b[0m",
      "\u001b[0;31mTypeError\u001b[0m                                 Traceback (most recent call last)",
      "Cell \u001b[0;32mIn[4], line 1\u001b[0m\n\u001b[0;32m----> 1\u001b[0m \u001b[43mdownload_one_file_of_raw_data\u001b[49m\u001b[43m(\u001b[49m\u001b[43myear\u001b[49m\u001b[38;5;241;43m=\u001b[39;49m\u001b[38;5;241;43m2020\u001b[39;49m\u001b[43m,\u001b[49m\u001b[43m \u001b[49m\u001b[43mmonth\u001b[49m\u001b[38;5;241;43m=\u001b[39;49m\u001b[38;5;124;43m'\u001b[39;49m\u001b[38;5;124;43m1\u001b[39;49m\u001b[38;5;124;43m'\u001b[39;49m\u001b[43m)\u001b[49m\n",
      "Cell \u001b[0;32mIn[1], line 33\u001b[0m, in \u001b[0;36mdownload_one_file_of_raw_data\u001b[0;34m(year, month)\u001b[0m\n\u001b[1;32m     31\u001b[0m       \u001b[38;5;28;01mraise\u001b[39;00m \u001b[38;5;167;01mTypeError\u001b[39;00m(\u001b[38;5;124m\"\u001b[39m\u001b[38;5;124mInteger value required for Year parameter\u001b[39m\u001b[38;5;124m\"\u001b[39m )\n\u001b[1;32m     32\u001b[0m \u001b[38;5;28;01mif\u001b[39;00m \u001b[38;5;129;01mnot\u001b[39;00m \u001b[38;5;28misinstance\u001b[39m(month, \u001b[38;5;28mint\u001b[39m):\n\u001b[0;32m---> 33\u001b[0m       \u001b[38;5;28;01mraise\u001b[39;00m \u001b[38;5;167;01mTypeError\u001b[39;00m(\u001b[38;5;124m\"\u001b[39m\u001b[38;5;124mInteger value required for Month parameter\u001b[39m\u001b[38;5;124m\"\u001b[39m )\n\u001b[1;32m     35\u001b[0m \u001b[38;5;66;03m# Configure logger\u001b[39;00m\n\u001b[1;32m     36\u001b[0m logger \u001b[38;5;241m=\u001b[39m logging\u001b[38;5;241m.\u001b[39mgetLogger(\u001b[38;5;124m'\u001b[39m\u001b[38;5;124mNB_Power_Extract\u001b[39m\u001b[38;5;124m'\u001b[39m)\n",
      "\u001b[0;31mTypeError\u001b[0m: Integer value required for Month parameter"
     ]
    }
   ],
   "source": [
    "download_one_file_of_raw_data(year=2020, month='1')"
   ]
  },
  {
   "cell_type": "code",
   "execution_count": 5,
   "id": "159d3132-6692-4ac2-9969-09d11e4e1705",
   "metadata": {
    "tags": []
   },
   "outputs": [
    {
     "data": {
      "text/html": [
       "<div>\n",
       "<style scoped>\n",
       "    .dataframe tbody tr th:only-of-type {\n",
       "        vertical-align: middle;\n",
       "    }\n",
       "\n",
       "    .dataframe tbody tr th {\n",
       "        vertical-align: top;\n",
       "    }\n",
       "\n",
       "    .dataframe thead th {\n",
       "        text-align: right;\n",
       "    }\n",
       "</style>\n",
       "<table border=\"1\" class=\"dataframe\">\n",
       "  <thead>\n",
       "    <tr style=\"text-align: right;\">\n",
       "      <th></th>\n",
       "      <th>HOUR</th>\n",
       "      <th>NB_LOAD</th>\n",
       "      <th>NB_DEMAND</th>\n",
       "      <th>ISO_NE</th>\n",
       "      <th>NMISA</th>\n",
       "      <th>QUEBEC</th>\n",
       "      <th>NOVA_SCOTIA</th>\n",
       "      <th>PEI</th>\n",
       "    </tr>\n",
       "  </thead>\n",
       "  <tbody>\n",
       "    <tr>\n",
       "      <th>0</th>\n",
       "      <td>2023-01-01 00:00</td>\n",
       "      <td>1502</td>\n",
       "      <td>1572</td>\n",
       "      <td>196.0</td>\n",
       "      <td>42</td>\n",
       "      <td>-920</td>\n",
       "      <td>79</td>\n",
       "      <td>153</td>\n",
       "    </tr>\n",
       "    <tr>\n",
       "      <th>1</th>\n",
       "      <td>2023-01-01 01:00</td>\n",
       "      <td>1458</td>\n",
       "      <td>1525</td>\n",
       "      <td>108.0</td>\n",
       "      <td>40</td>\n",
       "      <td>-909</td>\n",
       "      <td>75</td>\n",
       "      <td>153</td>\n",
       "    </tr>\n",
       "    <tr>\n",
       "      <th>2</th>\n",
       "      <td>2023-01-01 02:00</td>\n",
       "      <td>1434</td>\n",
       "      <td>1498</td>\n",
       "      <td>115.0</td>\n",
       "      <td>41</td>\n",
       "      <td>-910</td>\n",
       "      <td>74</td>\n",
       "      <td>145</td>\n",
       "    </tr>\n",
       "    <tr>\n",
       "      <th>3</th>\n",
       "      <td>2023-01-01 03:00</td>\n",
       "      <td>1417</td>\n",
       "      <td>1482</td>\n",
       "      <td>113.0</td>\n",
       "      <td>39</td>\n",
       "      <td>-910</td>\n",
       "      <td>74</td>\n",
       "      <td>139</td>\n",
       "    </tr>\n",
       "    <tr>\n",
       "      <th>4</th>\n",
       "      <td>2023-01-01 04:00</td>\n",
       "      <td>1408</td>\n",
       "      <td>1473</td>\n",
       "      <td>203.0</td>\n",
       "      <td>38</td>\n",
       "      <td>-910</td>\n",
       "      <td>74</td>\n",
       "      <td>144</td>\n",
       "    </tr>\n",
       "  </tbody>\n",
       "</table>\n",
       "</div>"
      ],
      "text/plain": [
       "               HOUR  NB_LOAD  NB_DEMAND  ISO_NE  NMISA  QUEBEC  NOVA_SCOTIA  \\\n",
       "0  2023-01-01 00:00     1502       1572   196.0     42    -920           79   \n",
       "1  2023-01-01 01:00     1458       1525   108.0     40    -909           75   \n",
       "2  2023-01-01 02:00     1434       1498   115.0     41    -910           74   \n",
       "3  2023-01-01 03:00     1417       1482   113.0     39    -910           74   \n",
       "4  2023-01-01 04:00     1408       1473   203.0     38    -910           74   \n",
       "\n",
       "   PEI  \n",
       "0  153  \n",
       "1  153  \n",
       "2  145  \n",
       "3  139  \n",
       "4  144  "
      ]
     },
     "execution_count": 5,
     "metadata": {},
     "output_type": "execute_result"
    }
   ],
   "source": [
    "df = pd.read_parquet('../data/raw/nb_power_2023_01.parquet')\n",
    "\n",
    "df.head()"
   ]
  },
  {
   "cell_type": "code",
   "execution_count": 6,
   "id": "6d4f5b90-a321-427c-9955-3fe7deeacc93",
   "metadata": {
    "tags": []
   },
   "outputs": [
    {
     "data": {
      "text/plain": [
       "count                              744\n",
       "mean     2023-01-16 11:29:59.999999744\n",
       "min                2023-01-01 00:00:00\n",
       "25%                2023-01-08 17:45:00\n",
       "50%                2023-01-16 11:30:00\n",
       "75%                2023-01-24 05:15:00\n",
       "max                2023-01-31 23:00:00\n",
       "Name: HOUR, dtype: object"
      ]
     },
     "execution_count": 6,
     "metadata": {},
     "output_type": "execute_result"
    }
   ],
   "source": [
    "df['HOUR'] = pd.to_datetime(df['HOUR'])\n",
    "\n",
    "df.HOUR.describe()"
   ]
  },
  {
   "cell_type": "code",
   "execution_count": 7,
   "id": "a79b3bf9-4a43-4a63-8478-e78d52ad1d75",
   "metadata": {
    "tags": []
   },
   "outputs": [
    {
     "data": {
      "text/plain": [
       "count                              744\n",
       "mean     2023-01-16 11:29:59.999999744\n",
       "min                2023-01-01 00:00:00\n",
       "25%                2023-01-08 17:45:00\n",
       "50%                2023-01-16 11:30:00\n",
       "75%                2023-01-24 05:15:00\n",
       "max                2023-01-31 23:00:00\n",
       "Name: HOUR, dtype: object"
      ]
     },
     "execution_count": 7,
     "metadata": {},
     "output_type": "execute_result"
    }
   ],
   "source": [
    "pd.to_datetime(df['HOUR']).describe()"
   ]
  },
  {
   "cell_type": "code",
   "execution_count": 8,
   "id": "c15e22ea-a8de-4e7e-bdb5-ed628737542f",
   "metadata": {
    "tags": []
   },
   "outputs": [],
   "source": [
    "def validate_raw_data(df: pd.DataFrame, year: int, month: int) -> Path:\n",
    "    \"\"\"\n",
    "    \"\"\"\n",
    "    start_nrows = df.shape[0]\n",
    "    month_end = (pd.to_datetime(f\"{year}-{month:02d}-01\",format=\"%Y-%m-%d\") + MonthEnd(0)).date()\n",
    "    \n",
    "    df['HOUR'] = pd.to_datetime(df['HOUR'])\n",
    "    df = df[df['HOUR'].apply(lambda x: x.date() <= month_end)]\n",
    "    \n",
    "    end_nrows = df.shape[0]\n",
    "    rows_removed = start_nrows - end_nrows\n",
    "    if start_nrows == end_nrows:\n",
    "        print(\"Timestamps validated!\")\n",
    "        \n",
    "    else:\n",
    "        print(f\"{rows_removed} removed to clean up timestamps\")\n",
    "    \n",
    "    output_path = f'../data/transformed/nb_power_cleaned_{year}-{month:02d}.parquet'\n",
    "    df.to_parquet(output_path)\n",
    "    \n",
    "    return output_path"
   ]
  },
  {
   "cell_type": "code",
   "execution_count": 9,
   "id": "3df414b1-ddbd-4304-a33d-067e5eda7566",
   "metadata": {
    "tags": []
   },
   "outputs": [
    {
     "name": "stdout",
     "output_type": "stream",
     "text": [
      "Timestamps validated!\n"
     ]
    },
    {
     "data": {
      "text/plain": [
       "'../data/transformed/nb_power_cleaned_2023-01.parquet'"
      ]
     },
     "execution_count": 9,
     "metadata": {},
     "output_type": "execute_result"
    }
   ],
   "source": [
    "validate_raw_data(df=df,year=2023,month=1)"
   ]
  },
  {
   "cell_type": "code",
   "execution_count": null,
   "id": "aa75bd11-c831-4551-b1b8-27eaead5c80e",
   "metadata": {},
   "outputs": [],
   "source": []
  }
 ],
 "metadata": {
  "kernelspec": {
   "display_name": "nb-power-demand-predictor-Hli6vHBp-py3.10",
   "language": "python",
   "name": "nb-power-demand-predictor-hli6vhbp-py3.10"
  },
  "language_info": {
   "codemirror_mode": {
    "name": "ipython",
    "version": 3
   },
   "file_extension": ".py",
   "mimetype": "text/x-python",
   "name": "python",
   "nbconvert_exporter": "python",
   "pygments_lexer": "ipython3",
   "version": "3.10.5"
  }
 },
 "nbformat": 4,
 "nbformat_minor": 5
}
